{
 "cells": [
  {
   "cell_type": "markdown",
   "metadata": {},
   "source": [
    "## Coletando dados - Viva Real"
   ]
  },
  {
   "cell_type": "code",
   "execution_count": 1,
   "metadata": {},
   "outputs": [],
   "source": [
    "import requests\n",
    "from bs4 import BeautifulSoup"
   ]
  },
  {
   "cell_type": "code",
   "execution_count": 2,
   "metadata": {},
   "outputs": [],
   "source": [
    "url = 'https://www.vivareal.com.br/venda/sp/sao-paulo/apartamento_residencial/'"
   ]
  },
  {
   "cell_type": "code",
   "execution_count": 3,
   "metadata": {},
   "outputs": [],
   "source": [
    "c = requests.get(url).content\n",
    "soup = BeautifulSoup(c)"
   ]
  },
  {
   "cell_type": "code",
   "execution_count": 4,
   "metadata": {},
   "outputs": [
    {
     "data": {
      "text/plain": [
       "0"
      ]
     },
     "execution_count": 4,
     "metadata": {},
     "output_type": "execute_result"
    }
   ],
   "source": [
    "aluguel_tag = soup.find_all('div', {'class':'property-card__price js-property-card-prices js-property-card__price-small'}) \n",
    "len(aluguel_tag)"
   ]
  },
  {
   "cell_type": "markdown",
   "metadata": {},
   "source": [
    "#### Definindo coleta das páginas da URL:"
   ]
  },
  {
   "cell_type": "code",
   "execution_count": 5,
   "metadata": {},
   "outputs": [
    {
     "name": "stdout",
     "output_type": "stream",
     "text": [
      "?pagina=2\n",
      "?pagina=3\n",
      "?pagina=4\n"
     ]
    }
   ],
   "source": [
    "paginas = ['']\n",
    "for i in range(2,5):\n",
    "    a = '?pagina='+str(i)\n",
    "    print(a)\n",
    "    paginas.append(a)"
   ]
  },
  {
   "cell_type": "code",
   "execution_count": 6,
   "metadata": {},
   "outputs": [
    {
     "data": {
      "text/plain": [
       "['', '?pagina=2', '?pagina=3', '?pagina=4']"
      ]
     },
     "execution_count": 6,
     "metadata": {},
     "output_type": "execute_result"
    }
   ],
   "source": [
    "paginas"
   ]
  },
  {
   "cell_type": "markdown",
   "metadata": {},
   "source": [
    "#### Criando DF para visualização dos dados."
   ]
  },
  {
   "cell_type": "code",
   "execution_count": 7,
   "metadata": {},
   "outputs": [],
   "source": [
    "import pandas as pd\n",
    "def converter_df(aluguel_lista,quartos_lista,endereco_lista,banheiro_lista):\n",
    "    data = {'aluguel':aluguel_lista,\n",
    "           'quartos':quartos_lista,\n",
    "           'endereco':endereco_lista,\n",
    "           'banheiro':banheiro_lista}\n",
    "    df = pd.DataFrame(data)\n",
    "    return df"
   ]
  },
  {
   "cell_type": "code",
   "execution_count": 8,
   "metadata": {},
   "outputs": [],
   "source": [
    "def scrap(url):\n",
    "    c = requests.get(url).content\n",
    "    soup = BeautifulSoup(c)\n",
    "    \n",
    "    aluguel_tag = soup.find_all('div', {'class':'property-card__price js-property-card-prices js-property-card__price-small'}) \n",
    "    aluguel_lista = [p.text for p in aluguel_tag] \n",
    "    print(len(aluguel_lista)) \n",
    "    \n",
    "    quartos_tag = soup.find_all('li', {'class': 'property-card__detail-item property-card__detail-room js-property-detail-rooms'}) \n",
    "    quartos_lista = [en.text for en in quartos_tag] \n",
    "    print(len(quartos_lista)) \n",
    "    \n",
    "    endereco_tag = soup.find_all('span', {'class': 'property-card__address'}) \n",
    "    endereco_lista = [fg.text for fg in endereco_tag] \n",
    "    print(len(endereco_lista)) \n",
    "    \n",
    "    banheiro_tag = soup.find_all('li', {'class': 'property-card__detail-item property-card__detail-bathroom js-property-detail-bathroom'}) \n",
    "    banheiro_lista = [yp.text for yp in banheiro_tag] \n",
    "    print(len(banheiro_lista))\n",
    "    \n",
    "    ### Vamos ter criar uma função para transformar listas em df\n",
    "    df=converter_df(aluguel_lista,quartos_lista,endereco_lista,banheiro_lista)\n",
    "    \n",
    "    return df"
   ]
  },
  {
   "cell_type": "code",
   "execution_count": 9,
   "metadata": {},
   "outputs": [
    {
     "data": {
      "text/plain": [
       "['', '?pagina=2', '?pagina=3', '?pagina=4']"
      ]
     },
     "execution_count": 9,
     "metadata": {},
     "output_type": "execute_result"
    }
   ],
   "source": [
    "paginas"
   ]
  },
  {
   "cell_type": "code",
   "execution_count": 10,
   "metadata": {},
   "outputs": [],
   "source": [
    "URL = 'https://www.vivareal.com.br/aluguel/sp/sao-paulo/apartamento_residencial/{}'"
   ]
  },
  {
   "cell_type": "code",
   "execution_count": 11,
   "metadata": {},
   "outputs": [
    {
     "name": "stdout",
     "output_type": "stream",
     "text": [
      "Coletando URL: https://www.vivareal.com.br/aluguel/sp/sao-paulo/apartamento_residencial/\n",
      "36\n",
      "36\n",
      "36\n",
      "36\n",
      "Coletando URL: https://www.vivareal.com.br/aluguel/sp/sao-paulo/apartamento_residencial/?pagina=2\n",
      "36\n",
      "36\n",
      "36\n",
      "36\n",
      "Coletando URL: https://www.vivareal.com.br/aluguel/sp/sao-paulo/apartamento_residencial/?pagina=3\n",
      "36\n",
      "36\n",
      "36\n",
      "36\n",
      "Coletando URL: https://www.vivareal.com.br/aluguel/sp/sao-paulo/apartamento_residencial/?pagina=4\n",
      "36\n",
      "36\n",
      "36\n",
      "36\n"
     ]
    }
   ],
   "source": [
    "df_lista = []\n",
    "for pg in paginas:\n",
    "    url = URL.format(pg)\n",
    "    print('Coletando URL:', url)\n",
    "    try:\n",
    "        df = scrap(url)\n",
    "    except Exception as e:\n",
    "        print('Erro ao coletar dados na url:', url)\n",
    "        print(e)\n",
    "    df_lista.append(df)\n",
    "\n",
    "df_final = pd.concat(df_lista)"
   ]
  },
  {
   "cell_type": "markdown",
   "metadata": {},
   "source": [
    "#### Visualizando o DF."
   ]
  },
  {
   "cell_type": "code",
   "execution_count": 12,
   "metadata": {},
   "outputs": [
    {
     "data": {
      "text/html": [
       "<div>\n",
       "<style scoped>\n",
       "    .dataframe tbody tr th:only-of-type {\n",
       "        vertical-align: middle;\n",
       "    }\n",
       "\n",
       "    .dataframe tbody tr th {\n",
       "        vertical-align: top;\n",
       "    }\n",
       "\n",
       "    .dataframe thead th {\n",
       "        text-align: right;\n",
       "    }\n",
       "</style>\n",
       "<table border=\"1\" class=\"dataframe\">\n",
       "  <thead>\n",
       "    <tr style=\"text-align: right;\">\n",
       "      <th></th>\n",
       "      <th>aluguel</th>\n",
       "      <th>quartos</th>\n",
       "      <th>endereco</th>\n",
       "      <th>banheiro</th>\n",
       "    </tr>\n",
       "  </thead>\n",
       "  <tbody>\n",
       "    <tr>\n",
       "      <th>0</th>\n",
       "      <td>R$ 6.000 /Mês</td>\n",
       "      <td>2   Quartos</td>\n",
       "      <td>Rua Haddock Lobo, 547 - Cerqueira César, São P...</td>\n",
       "      <td>3   Banheiros</td>\n",
       "    </tr>\n",
       "    <tr>\n",
       "      <th>1</th>\n",
       "      <td>R$ 3.500 /Mês</td>\n",
       "      <td>2   Quartos</td>\n",
       "      <td>Avenida Lins de Vasconcelos, 2805 - Vila Maria...</td>\n",
       "      <td>2   Banheiros</td>\n",
       "    </tr>\n",
       "    <tr>\n",
       "      <th>2</th>\n",
       "      <td>R$ 3.300 /Mês</td>\n",
       "      <td>1   Quarto</td>\n",
       "      <td>Rua Constantino de Sousa, 1144 - Campo Belo, S...</td>\n",
       "      <td>1   Banheiro</td>\n",
       "    </tr>\n",
       "    <tr>\n",
       "      <th>3</th>\n",
       "      <td>R$ 4.600 /Mês</td>\n",
       "      <td>2   Quartos</td>\n",
       "      <td>Rua Cunha Gago, 181 - Pinheiros, São Paulo - SP</td>\n",
       "      <td>2   Banheiros</td>\n",
       "    </tr>\n",
       "    <tr>\n",
       "      <th>4</th>\n",
       "      <td>R$ 2.900 /Mês</td>\n",
       "      <td>3   Quartos</td>\n",
       "      <td>Rua Pensilvânia, 240 - Brooklin, São Paulo - SP</td>\n",
       "      <td>3   Banheiros</td>\n",
       "    </tr>\n",
       "  </tbody>\n",
       "</table>\n",
       "</div>"
      ],
      "text/plain": [
       "              aluguel          quartos  \\\n",
       "0     R$ 6.000 /Mês      2   Quartos     \n",
       "1     R$ 3.500 /Mês      2   Quartos     \n",
       "2     R$ 3.300 /Mês       1   Quarto     \n",
       "3     R$ 4.600 /Mês      2   Quartos     \n",
       "4     R$ 2.900 /Mês      3   Quartos     \n",
       "\n",
       "                                            endereco           banheiro  \n",
       "0  Rua Haddock Lobo, 547 - Cerqueira César, São P...    3   Banheiros    \n",
       "1  Avenida Lins de Vasconcelos, 2805 - Vila Maria...    2   Banheiros    \n",
       "2  Rua Constantino de Sousa, 1144 - Campo Belo, S...     1   Banheiro    \n",
       "3    Rua Cunha Gago, 181 - Pinheiros, São Paulo - SP    2   Banheiros    \n",
       "4    Rua Pensilvânia, 240 - Brooklin, São Paulo - SP    3   Banheiros    "
      ]
     },
     "execution_count": 12,
     "metadata": {},
     "output_type": "execute_result"
    }
   ],
   "source": [
    "df_final.head()"
   ]
  },
  {
   "cell_type": "code",
   "execution_count": 13,
   "metadata": {},
   "outputs": [
    {
     "data": {
      "text/html": [
       "<div>\n",
       "<style scoped>\n",
       "    .dataframe tbody tr th:only-of-type {\n",
       "        vertical-align: middle;\n",
       "    }\n",
       "\n",
       "    .dataframe tbody tr th {\n",
       "        vertical-align: top;\n",
       "    }\n",
       "\n",
       "    .dataframe thead th {\n",
       "        text-align: right;\n",
       "    }\n",
       "</style>\n",
       "<table border=\"1\" class=\"dataframe\">\n",
       "  <thead>\n",
       "    <tr style=\"text-align: right;\">\n",
       "      <th></th>\n",
       "      <th>aluguel</th>\n",
       "      <th>quartos</th>\n",
       "      <th>endereco</th>\n",
       "      <th>banheiro</th>\n",
       "      <th>bairro</th>\n",
       "      <th>rua</th>\n",
       "    </tr>\n",
       "  </thead>\n",
       "  <tbody>\n",
       "    <tr>\n",
       "      <th>0</th>\n",
       "      <td>R$ 6.000 /Mês</td>\n",
       "      <td>2   Quartos</td>\n",
       "      <td>Rua Haddock Lobo, 547 - Cerqueira César, São P...</td>\n",
       "      <td>3   Banheiros</td>\n",
       "      <td>Cerqueira César</td>\n",
       "      <td>Rua Haddock Lobo, 547</td>\n",
       "    </tr>\n",
       "    <tr>\n",
       "      <th>1</th>\n",
       "      <td>R$ 3.500 /Mês</td>\n",
       "      <td>2   Quartos</td>\n",
       "      <td>Avenida Lins de Vasconcelos, 2805 - Vila Maria...</td>\n",
       "      <td>2   Banheiros</td>\n",
       "      <td>Vila Mariana</td>\n",
       "      <td>Avenida Lins de Vasconcelos, 2805</td>\n",
       "    </tr>\n",
       "    <tr>\n",
       "      <th>2</th>\n",
       "      <td>R$ 3.300 /Mês</td>\n",
       "      <td>1   Quarto</td>\n",
       "      <td>Rua Constantino de Sousa, 1144 - Campo Belo, S...</td>\n",
       "      <td>1   Banheiro</td>\n",
       "      <td>Campo Belo</td>\n",
       "      <td>Rua Constantino de Sousa, 1144</td>\n",
       "    </tr>\n",
       "    <tr>\n",
       "      <th>3</th>\n",
       "      <td>R$ 4.600 /Mês</td>\n",
       "      <td>2   Quartos</td>\n",
       "      <td>Rua Cunha Gago, 181 - Pinheiros, São Paulo - SP</td>\n",
       "      <td>2   Banheiros</td>\n",
       "      <td>Pinheiros</td>\n",
       "      <td>Rua Cunha Gago, 181</td>\n",
       "    </tr>\n",
       "    <tr>\n",
       "      <th>4</th>\n",
       "      <td>R$ 2.900 /Mês</td>\n",
       "      <td>3   Quartos</td>\n",
       "      <td>Rua Pensilvânia, 240 - Brooklin, São Paulo - SP</td>\n",
       "      <td>3   Banheiros</td>\n",
       "      <td>Brooklin</td>\n",
       "      <td>Rua Pensilvânia, 240</td>\n",
       "    </tr>\n",
       "  </tbody>\n",
       "</table>\n",
       "</div>"
      ],
      "text/plain": [
       "              aluguel          quartos  \\\n",
       "0     R$ 6.000 /Mês      2   Quartos     \n",
       "1     R$ 3.500 /Mês      2   Quartos     \n",
       "2     R$ 3.300 /Mês       1   Quarto     \n",
       "3     R$ 4.600 /Mês      2   Quartos     \n",
       "4     R$ 2.900 /Mês      3   Quartos     \n",
       "\n",
       "                                            endereco           banheiro  \\\n",
       "0  Rua Haddock Lobo, 547 - Cerqueira César, São P...    3   Banheiros     \n",
       "1  Avenida Lins de Vasconcelos, 2805 - Vila Maria...    2   Banheiros     \n",
       "2  Rua Constantino de Sousa, 1144 - Campo Belo, S...     1   Banheiro     \n",
       "3    Rua Cunha Gago, 181 - Pinheiros, São Paulo - SP    2   Banheiros     \n",
       "4    Rua Pensilvânia, 240 - Brooklin, São Paulo - SP    3   Banheiros     \n",
       "\n",
       "             bairro                                rua  \n",
       "0   Cerqueira César              Rua Haddock Lobo, 547  \n",
       "1      Vila Mariana  Avenida Lins de Vasconcelos, 2805  \n",
       "2        Campo Belo     Rua Constantino de Sousa, 1144  \n",
       "3         Pinheiros                Rua Cunha Gago, 181  \n",
       "4          Brooklin               Rua Pensilvânia, 240  "
      ]
     },
     "execution_count": 13,
     "metadata": {},
     "output_type": "execute_result"
    }
   ],
   "source": [
    "df_final['bairro'] = df_final.endereco.str.split('\\s-').str[1]\n",
    "df_final['rua'] = df_final.endereco.str.split('\\s-').str[0]\n",
    "df_final['bairro'] = df_final.bairro.str.split(',').str[0]\n",
    "\n",
    "df_final.head()"
   ]
  },
  {
   "cell_type": "code",
   "execution_count": null,
   "metadata": {},
   "outputs": [],
   "source": []
  }
 ],
 "metadata": {
  "kernelspec": {
   "display_name": "Python 3",
   "language": "python",
   "name": "python3"
  },
  "language_info": {
   "codemirror_mode": {
    "name": "ipython",
    "version": 3
   },
   "file_extension": ".py",
   "mimetype": "text/x-python",
   "name": "python",
   "nbconvert_exporter": "python",
   "pygments_lexer": "ipython3",
   "version": "3.8.5"
  }
 },
 "nbformat": 4,
 "nbformat_minor": 4
}
