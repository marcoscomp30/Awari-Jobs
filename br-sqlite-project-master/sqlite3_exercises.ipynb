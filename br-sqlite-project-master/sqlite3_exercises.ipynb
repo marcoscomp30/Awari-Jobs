{
 "cells": [
  {
   "cell_type": "markdown",
   "metadata": {
    "id": "L7OWhvYUqcZt"
   },
   "source": [
    "<img src=\"https://i.imgur.com/JsMvGnP.pngwidth\" height=\"30\">  \n",
    "<p style=\"color: #2e6c80; text-align: center;\"><strong>"
   ]
  },
  {
   "cell_type": "markdown",
   "metadata": {
    "id": "VIoXl5ZfqcZ7"
   },
   "source": [
    "## Exercícios de SQL"
   ]
  },
  {
   "cell_type": "markdown",
   "metadata": {
    "id": "qxHMH2NSqcZ8"
   },
   "source": [
    "Essa série de exercícios tem como objetivo o treino da utilização da biblioteca sqlite3, que permite a utilização da sintaxe de SQL para realizar queries. \\\n",
    "A base de dados utilizada é a [Brazilian E-Commerce Public Dataset by Olist]( https://www.kaggle.com/olistbr/brazilian-ecommerce), disponível publicamente no Kaggle. \\\n",
    "Sugerimos que, na medida do possível, utilize apenas queries em SQL, evitando a utilização de outras bibliotecas que nesta etapa do curso você já pode estar mais familiarizado(a). \\\n",
    "A exceção é a utilização do pandas quando for solicitada a visualização dos dados. \\\n",
    "[Documentação da sqlite3](https://docs.python.org/3/library/sqlite3.html)"
   ]
  },
  {
   "cell_type": "markdown",
   "metadata": {
    "id": "ja6sc5W5qcZ9"
   },
   "source": [
    "Link para a base de dados: https://drive.google.com/file/d/1qfyrOegq9jJXTvSIU2yzsQvOepQCHRte/view?usp=sharing. \\\n",
    "Aconselhamos a baixá-la para trabalhar localmente no Jupyter Notebook. Recomendamos também salvá-la na mesma pasta em que se encontra o arquivo do Jupyter."
   ]
  },
  {
   "cell_type": "markdown",
   "metadata": {
    "id": "PuQiPpf2qcZ-"
   },
   "source": [
    "### Esquema \n",
    "\n",
    "<img src=\"https://i.imgur.com/Be6l4EO.png\" alt=\"Kitten\"\n",
    "\ttitle=\"A cute kitten\" width=\"600\" />\n",
    "    \n",
    "Fonte: https://www.kaggle.com/olistbr/brazilian-ecommerce"
   ]
  },
  {
   "cell_type": "markdown",
   "metadata": {
    "id": "DSgM8hhaqcZ-"
   },
   "source": [
    "**Como funcionarão os exercícios?** \\\n",
    "Os primeiros exercícios terão parte do código completo. Você precisará encontrar a inscrição **...** e substituí-la por um código que realize a ação indicada. \\\n",
    "Exemplo: \\\n",
    "**0 - Importe a biblioteca numpy como np:** \\\n",
    "Seu código estará assim: \\\n",
    "```import ... as np``` \\\n",
    "Você deve deixá-lo assim: \\\n",
    "```import numpy as np``` \n",
    "\n",
    "\n",
    "A partir de um certo ponto, o código estará em branco, fazendo com que você necessite escrevê-lo integralmente."
   ]
  },
  {
   "cell_type": "markdown",
   "metadata": {
    "id": "Vt7Pga9DqcZ-"
   },
   "source": [
    "### 1 - Importe a biblioteca necessária para realizar as queries em SQL, importe também o pandas para visualização dos dados."
   ]
  },
  {
   "cell_type": "code",
   "execution_count": 1,
   "metadata": {
    "id": "squyk6y1qcZ_"
   },
   "outputs": [],
   "source": [
    "import sqlite3\n",
    "import pandas as pd"
   ]
  },
  {
   "cell_type": "markdown",
   "metadata": {
    "id": "SjrmFaZVqcaA"
   },
   "source": [
    "### 2 - Realize a conexão com a base de dados 'olist_ecommerce.db' que se encontra na mesma pasta deste Notebook.\n",
    "Nomeie essa variável como **conn**, pois vai ser utilzada com essa nomenclatura na célula abaixo."
   ]
  },
  {
   "cell_type": "code",
   "execution_count": 3,
   "metadata": {
    "id": "A_rkQoxLqcaA"
   },
   "outputs": [],
   "source": [
    "conn = sqlite3.connect('olist_ecommerce_antiga.db')"
   ]
  },
  {
   "cell_type": "markdown",
   "metadata": {
    "id": "x0ezNLhKqcaA"
   },
   "source": [
    "Criamos a função auxiliar abaixo que permitirá que você se preocupe apenas com a sintaxe de SQL, uma vez que o código em Python já está resolvido. \\\n",
    "Para utilizá-la, basta inserir o código como um argumento da função \\\n",
    "Ex:```consulta('SEU CODIGO EM SQL')```"
   ]
  },
  {
   "cell_type": "code",
   "execution_count": 4,
   "metadata": {
    "id": "rhjEIX4GqcaB"
   },
   "outputs": [],
   "source": [
    "def consulta(query):\n",
    "    cursor = conn.cursor()\n",
    "    consult = cursor.execute(query)\n",
    "    results = consult.fetchall()\n",
    "    cols = [column[0] for column in consult.description]\n",
    "    df = pd.DataFrame(results,columns=cols)\n",
    "    cursor.close()\n",
    "    return df"
   ]
  },
  {
   "cell_type": "markdown",
   "metadata": {
    "id": "0_P6SEffqcaB"
   },
   "source": [
    "**Importante**: como é possível observar no código acima, a função já retorna os resultados da consulta como um DataFrame do pandas. Além disso, o código abaixo restringe a exibição a apenas 7 linhas para os DataFrames criados. Tal restrição é meramente estética e você pode alterá-la caso queira exibir mais linhas."
   ]
  },
  {
   "cell_type": "code",
   "execution_count": 5,
   "metadata": {
    "id": "MoVnpSRjqcaB"
   },
   "outputs": [],
   "source": [
    "pd.set_option(\"display.max_rows\",7)"
   ]
  },
  {
   "cell_type": "markdown",
   "metadata": {
    "id": "HoUTQaoQqcaC"
   },
   "source": [
    "### 3 - Imprima na tela o nomes de todas as tabelas contidas na base de dados."
   ]
  },
  {
   "cell_type": "code",
   "execution_count": 6,
   "metadata": {
    "id": "LlkLz5ltqcaC",
    "outputId": "df1949dc-887b-4a7d-f481-6decbc13ad72"
   },
   "outputs": [
    {
     "data": {
      "text/html": [
       "<div>\n",
       "<style scoped>\n",
       "    .dataframe tbody tr th:only-of-type {\n",
       "        vertical-align: middle;\n",
       "    }\n",
       "\n",
       "    .dataframe tbody tr th {\n",
       "        vertical-align: top;\n",
       "    }\n",
       "\n",
       "    .dataframe thead th {\n",
       "        text-align: right;\n",
       "    }\n",
       "</style>\n",
       "<table border=\"1\" class=\"dataframe\">\n",
       "  <thead>\n",
       "    <tr style=\"text-align: right;\">\n",
       "      <th></th>\n",
       "      <th>name</th>\n",
       "    </tr>\n",
       "  </thead>\n",
       "  <tbody>\n",
       "    <tr>\n",
       "      <th>0</th>\n",
       "      <td>olist_customers_dataset</td>\n",
       "    </tr>\n",
       "    <tr>\n",
       "      <th>1</th>\n",
       "      <td>olist_geolocation_dataset</td>\n",
       "    </tr>\n",
       "    <tr>\n",
       "      <th>2</th>\n",
       "      <td>olist_order_items_dataset</td>\n",
       "    </tr>\n",
       "    <tr>\n",
       "      <th>...</th>\n",
       "      <td>...</td>\n",
       "    </tr>\n",
       "    <tr>\n",
       "      <th>5</th>\n",
       "      <td>olist_orders_dataset</td>\n",
       "    </tr>\n",
       "    <tr>\n",
       "      <th>6</th>\n",
       "      <td>olist_products_dataset</td>\n",
       "    </tr>\n",
       "    <tr>\n",
       "      <th>7</th>\n",
       "      <td>product_category_name_translation</td>\n",
       "    </tr>\n",
       "  </tbody>\n",
       "</table>\n",
       "<p>8 rows × 1 columns</p>\n",
       "</div>"
      ],
      "text/plain": [
       "                                 name\n",
       "0             olist_customers_dataset\n",
       "1           olist_geolocation_dataset\n",
       "2           olist_order_items_dataset\n",
       "..                                ...\n",
       "5                olist_orders_dataset\n",
       "6              olist_products_dataset\n",
       "7   product_category_name_translation\n",
       "\n",
       "[8 rows x 1 columns]"
      ]
     },
     "execution_count": 6,
     "metadata": {},
     "output_type": "execute_result"
    }
   ],
   "source": [
    "consulta('''SELECT name FROM sqlite_master WHERE type='table';''')"
   ]
  },
  {
   "cell_type": "markdown",
   "metadata": {
    "id": "zy54_H92qcaD"
   },
   "source": [
    "### 4 - Descubra informações da tabela 'olist_orders_dataset' como os nomes das colunas, os tipos de dados em cada uma delas, etc."
   ]
  },
  {
   "cell_type": "code",
   "execution_count": 8,
   "metadata": {
    "id": "OQZ9Ip7qqcaE",
    "outputId": "9e28eb20-16fc-405d-b5a0-06e134d51c13"
   },
   "outputs": [
    {
     "data": {
      "text/html": [
       "<div>\n",
       "<style scoped>\n",
       "    .dataframe tbody tr th:only-of-type {\n",
       "        vertical-align: middle;\n",
       "    }\n",
       "\n",
       "    .dataframe tbody tr th {\n",
       "        vertical-align: top;\n",
       "    }\n",
       "\n",
       "    .dataframe thead th {\n",
       "        text-align: right;\n",
       "    }\n",
       "</style>\n",
       "<table border=\"1\" class=\"dataframe\">\n",
       "  <thead>\n",
       "    <tr style=\"text-align: right;\">\n",
       "      <th></th>\n",
       "      <th>cid</th>\n",
       "      <th>name</th>\n",
       "      <th>type</th>\n",
       "      <th>notnull</th>\n",
       "      <th>dflt_value</th>\n",
       "      <th>pk</th>\n",
       "    </tr>\n",
       "  </thead>\n",
       "  <tbody>\n",
       "    <tr>\n",
       "      <th>0</th>\n",
       "      <td>0</td>\n",
       "      <td>order_id</td>\n",
       "      <td>TEXT</td>\n",
       "      <td>0</td>\n",
       "      <td>None</td>\n",
       "      <td>0</td>\n",
       "    </tr>\n",
       "    <tr>\n",
       "      <th>1</th>\n",
       "      <td>1</td>\n",
       "      <td>customer_id</td>\n",
       "      <td>TEXT</td>\n",
       "      <td>0</td>\n",
       "      <td>None</td>\n",
       "      <td>0</td>\n",
       "    </tr>\n",
       "    <tr>\n",
       "      <th>2</th>\n",
       "      <td>2</td>\n",
       "      <td>order_status</td>\n",
       "      <td>TEXT</td>\n",
       "      <td>0</td>\n",
       "      <td>None</td>\n",
       "      <td>0</td>\n",
       "    </tr>\n",
       "    <tr>\n",
       "      <th>...</th>\n",
       "      <td>...</td>\n",
       "      <td>...</td>\n",
       "      <td>...</td>\n",
       "      <td>...</td>\n",
       "      <td>...</td>\n",
       "      <td>...</td>\n",
       "    </tr>\n",
       "    <tr>\n",
       "      <th>5</th>\n",
       "      <td>5</td>\n",
       "      <td>order_delivered_carrier_date</td>\n",
       "      <td>TEXT</td>\n",
       "      <td>0</td>\n",
       "      <td>None</td>\n",
       "      <td>0</td>\n",
       "    </tr>\n",
       "    <tr>\n",
       "      <th>6</th>\n",
       "      <td>6</td>\n",
       "      <td>order_delivered_customer_date</td>\n",
       "      <td>TEXT</td>\n",
       "      <td>0</td>\n",
       "      <td>None</td>\n",
       "      <td>0</td>\n",
       "    </tr>\n",
       "    <tr>\n",
       "      <th>7</th>\n",
       "      <td>7</td>\n",
       "      <td>order_estimated_delivery_date</td>\n",
       "      <td>TEXT</td>\n",
       "      <td>0</td>\n",
       "      <td>None</td>\n",
       "      <td>0</td>\n",
       "    </tr>\n",
       "  </tbody>\n",
       "</table>\n",
       "<p>8 rows × 6 columns</p>\n",
       "</div>"
      ],
      "text/plain": [
       "    cid                           name  type  notnull dflt_value  pk\n",
       "0     0                       order_id  TEXT        0       None   0\n",
       "1     1                    customer_id  TEXT        0       None   0\n",
       "2     2                   order_status  TEXT        0       None   0\n",
       "..  ...                            ...   ...      ...        ...  ..\n",
       "5     5   order_delivered_carrier_date  TEXT        0       None   0\n",
       "6     6  order_delivered_customer_date  TEXT        0       None   0\n",
       "7     7  order_estimated_delivery_date  TEXT        0       None   0\n",
       "\n",
       "[8 rows x 6 columns]"
      ]
     },
     "execution_count": 8,
     "metadata": {},
     "output_type": "execute_result"
    }
   ],
   "source": [
    "consulta('pragma table_info(olist_orders_dataset)')"
   ]
  },
  {
   "cell_type": "markdown",
   "metadata": {
    "id": "L8iHoq54qcaE"
   },
   "source": [
    "### 5 - Selecione todos os dados da tabela 'olist_order_reviews_dataset'"
   ]
  },
  {
   "cell_type": "code",
   "execution_count": 9,
   "metadata": {
    "id": "mNvgNgIpqcaE",
    "outputId": "89b77b64-2c6e-403b-c6fe-ad1b26619f19",
    "scrolled": true
   },
   "outputs": [
    {
     "data": {
      "text/html": [
       "<div>\n",
       "<style scoped>\n",
       "    .dataframe tbody tr th:only-of-type {\n",
       "        vertical-align: middle;\n",
       "    }\n",
       "\n",
       "    .dataframe tbody tr th {\n",
       "        vertical-align: top;\n",
       "    }\n",
       "\n",
       "    .dataframe thead th {\n",
       "        text-align: right;\n",
       "    }\n",
       "</style>\n",
       "<table border=\"1\" class=\"dataframe\">\n",
       "  <thead>\n",
       "    <tr style=\"text-align: right;\">\n",
       "      <th></th>\n",
       "      <th>review_id</th>\n",
       "      <th>order_id</th>\n",
       "      <th>review_score</th>\n",
       "      <th>review_comment_title</th>\n",
       "      <th>review_comment_message</th>\n",
       "      <th>review_creation_date</th>\n",
       "      <th>review_answer_timestamp</th>\n",
       "    </tr>\n",
       "  </thead>\n",
       "  <tbody>\n",
       "    <tr>\n",
       "      <th>0</th>\n",
       "      <td>7bc2406110b926393aa56f80a40eba40</td>\n",
       "      <td>73fc7af87114b39712e6da79b0a377eb</td>\n",
       "      <td>4</td>\n",
       "      <td>None</td>\n",
       "      <td>None</td>\n",
       "      <td>2018-01-18 00:00:00</td>\n",
       "      <td>2018-01-18 21:46:59</td>\n",
       "    </tr>\n",
       "    <tr>\n",
       "      <th>1</th>\n",
       "      <td>80e641a11e56f04c1ad469d5645fdfde</td>\n",
       "      <td>a548910a1c6147796b98fdf73dbeba33</td>\n",
       "      <td>5</td>\n",
       "      <td>None</td>\n",
       "      <td>None</td>\n",
       "      <td>2018-03-10 00:00:00</td>\n",
       "      <td>2018-03-11 03:05:13</td>\n",
       "    </tr>\n",
       "    <tr>\n",
       "      <th>2</th>\n",
       "      <td>228ce5500dc1d8e020d8d1322874b6f0</td>\n",
       "      <td>f9e4b658b201a9f2ecdecbb34bed034b</td>\n",
       "      <td>5</td>\n",
       "      <td>None</td>\n",
       "      <td>None</td>\n",
       "      <td>2018-02-17 00:00:00</td>\n",
       "      <td>2018-02-18 14:36:24</td>\n",
       "    </tr>\n",
       "    <tr>\n",
       "      <th>...</th>\n",
       "      <td>...</td>\n",
       "      <td>...</td>\n",
       "      <td>...</td>\n",
       "      <td>...</td>\n",
       "      <td>...</td>\n",
       "      <td>...</td>\n",
       "      <td>...</td>\n",
       "    </tr>\n",
       "    <tr>\n",
       "      <th>99997</th>\n",
       "      <td>1adeb9d84d72fe4e337617733eb85149</td>\n",
       "      <td>7725825d039fc1f0ceb7635e3f7d9206</td>\n",
       "      <td>4</td>\n",
       "      <td>None</td>\n",
       "      <td>None</td>\n",
       "      <td>2018-07-01 00:00:00</td>\n",
       "      <td>2018-07-02 12:59:13</td>\n",
       "    </tr>\n",
       "    <tr>\n",
       "      <th>99998</th>\n",
       "      <td>be360f18f5df1e0541061c87021e6d93</td>\n",
       "      <td>f8bd3f2000c28c5342fedeb5e50f2e75</td>\n",
       "      <td>1</td>\n",
       "      <td>None</td>\n",
       "      <td>Solicitei a compra de uma capa de retrovisor c...</td>\n",
       "      <td>2017-12-15 00:00:00</td>\n",
       "      <td>2017-12-16 01:29:43</td>\n",
       "    </tr>\n",
       "    <tr>\n",
       "      <th>99999</th>\n",
       "      <td>efe49f1d6f951dd88b51e6ccd4cc548f</td>\n",
       "      <td>90531360ecb1eec2a1fbb265a0db0508</td>\n",
       "      <td>1</td>\n",
       "      <td>None</td>\n",
       "      <td>meu produto chegou e ja tenho que devolver, po...</td>\n",
       "      <td>2017-07-03 00:00:00</td>\n",
       "      <td>2017-07-03 21:01:49</td>\n",
       "    </tr>\n",
       "  </tbody>\n",
       "</table>\n",
       "<p>100000 rows × 7 columns</p>\n",
       "</div>"
      ],
      "text/plain": [
       "                              review_id                          order_id  \\\n",
       "0      7bc2406110b926393aa56f80a40eba40  73fc7af87114b39712e6da79b0a377eb   \n",
       "1      80e641a11e56f04c1ad469d5645fdfde  a548910a1c6147796b98fdf73dbeba33   \n",
       "2      228ce5500dc1d8e020d8d1322874b6f0  f9e4b658b201a9f2ecdecbb34bed034b   \n",
       "...                                 ...                               ...   \n",
       "99997  1adeb9d84d72fe4e337617733eb85149  7725825d039fc1f0ceb7635e3f7d9206   \n",
       "99998  be360f18f5df1e0541061c87021e6d93  f8bd3f2000c28c5342fedeb5e50f2e75   \n",
       "99999  efe49f1d6f951dd88b51e6ccd4cc548f  90531360ecb1eec2a1fbb265a0db0508   \n",
       "\n",
       "       review_score review_comment_title  \\\n",
       "0                 4                 None   \n",
       "1                 5                 None   \n",
       "2                 5                 None   \n",
       "...             ...                  ...   \n",
       "99997             4                 None   \n",
       "99998             1                 None   \n",
       "99999             1                 None   \n",
       "\n",
       "                                  review_comment_message review_creation_date  \\\n",
       "0                                                   None  2018-01-18 00:00:00   \n",
       "1                                                   None  2018-03-10 00:00:00   \n",
       "2                                                   None  2018-02-17 00:00:00   \n",
       "...                                                  ...                  ...   \n",
       "99997                                               None  2018-07-01 00:00:00   \n",
       "99998  Solicitei a compra de uma capa de retrovisor c...  2017-12-15 00:00:00   \n",
       "99999  meu produto chegou e ja tenho que devolver, po...  2017-07-03 00:00:00   \n",
       "\n",
       "      review_answer_timestamp  \n",
       "0         2018-01-18 21:46:59  \n",
       "1         2018-03-11 03:05:13  \n",
       "2         2018-02-18 14:36:24  \n",
       "...                       ...  \n",
       "99997     2018-07-02 12:59:13  \n",
       "99998     2017-12-16 01:29:43  \n",
       "99999     2017-07-03 21:01:49  \n",
       "\n",
       "[100000 rows x 7 columns]"
      ]
     },
     "execution_count": 9,
     "metadata": {},
     "output_type": "execute_result"
    }
   ],
   "source": [
    "consulta('SELECT  * FROM olist_order_reviews_dataset')"
   ]
  },
  {
   "cell_type": "markdown",
   "metadata": {
    "id": "NYViWp2hqcaF"
   },
   "source": [
    "### 6 - Selecione todos os dados da tabela 'olist_order_reviews_dataset' que tenham o score igual a 5"
   ]
  },
  {
   "cell_type": "code",
   "execution_count": 10,
   "metadata": {
    "id": "Foxd_HhGqcaG",
    "outputId": "c3c9572d-a2c0-4358-f081-d3ed692fb668"
   },
   "outputs": [
    {
     "data": {
      "text/html": [
       "<div>\n",
       "<style scoped>\n",
       "    .dataframe tbody tr th:only-of-type {\n",
       "        vertical-align: middle;\n",
       "    }\n",
       "\n",
       "    .dataframe tbody tr th {\n",
       "        vertical-align: top;\n",
       "    }\n",
       "\n",
       "    .dataframe thead th {\n",
       "        text-align: right;\n",
       "    }\n",
       "</style>\n",
       "<table border=\"1\" class=\"dataframe\">\n",
       "  <thead>\n",
       "    <tr style=\"text-align: right;\">\n",
       "      <th></th>\n",
       "      <th>review_id</th>\n",
       "      <th>order_id</th>\n",
       "      <th>review_score</th>\n",
       "      <th>review_comment_title</th>\n",
       "      <th>review_comment_message</th>\n",
       "      <th>review_creation_date</th>\n",
       "      <th>review_answer_timestamp</th>\n",
       "    </tr>\n",
       "  </thead>\n",
       "  <tbody>\n",
       "    <tr>\n",
       "      <th>0</th>\n",
       "      <td>80e641a11e56f04c1ad469d5645fdfde</td>\n",
       "      <td>a548910a1c6147796b98fdf73dbeba33</td>\n",
       "      <td>5</td>\n",
       "      <td>None</td>\n",
       "      <td>None</td>\n",
       "      <td>2018-03-10 00:00:00</td>\n",
       "      <td>2018-03-11 03:05:13</td>\n",
       "    </tr>\n",
       "    <tr>\n",
       "      <th>1</th>\n",
       "      <td>228ce5500dc1d8e020d8d1322874b6f0</td>\n",
       "      <td>f9e4b658b201a9f2ecdecbb34bed034b</td>\n",
       "      <td>5</td>\n",
       "      <td>None</td>\n",
       "      <td>None</td>\n",
       "      <td>2018-02-17 00:00:00</td>\n",
       "      <td>2018-02-18 14:36:24</td>\n",
       "    </tr>\n",
       "    <tr>\n",
       "      <th>2</th>\n",
       "      <td>e64fb393e7b32834bb789ff8bb30750e</td>\n",
       "      <td>658677c97b385a9be170737859d3511b</td>\n",
       "      <td>5</td>\n",
       "      <td>None</td>\n",
       "      <td>Recebi bem antes do prazo estipulado.</td>\n",
       "      <td>2017-04-21 00:00:00</td>\n",
       "      <td>2017-04-21 22:02:06</td>\n",
       "    </tr>\n",
       "    <tr>\n",
       "      <th>...</th>\n",
       "      <td>...</td>\n",
       "      <td>...</td>\n",
       "      <td>...</td>\n",
       "      <td>...</td>\n",
       "      <td>...</td>\n",
       "      <td>...</td>\n",
       "      <td>...</td>\n",
       "    </tr>\n",
       "    <tr>\n",
       "      <th>57417</th>\n",
       "      <td>574ed12dd733e5fa530cfd4bbf39d7c9</td>\n",
       "      <td>2a8c23fee101d4d5662fa670396eb8da</td>\n",
       "      <td>5</td>\n",
       "      <td>None</td>\n",
       "      <td>None</td>\n",
       "      <td>2018-07-07 00:00:00</td>\n",
       "      <td>2018-07-14 17:18:30</td>\n",
       "    </tr>\n",
       "    <tr>\n",
       "      <th>57418</th>\n",
       "      <td>f3897127253a9592a73be9bdfdf4ed7a</td>\n",
       "      <td>22ec9f0669f784db00fa86d035cf8602</td>\n",
       "      <td>5</td>\n",
       "      <td>None</td>\n",
       "      <td>None</td>\n",
       "      <td>2017-12-09 00:00:00</td>\n",
       "      <td>2017-12-11 20:06:42</td>\n",
       "    </tr>\n",
       "    <tr>\n",
       "      <th>57419</th>\n",
       "      <td>b3de70c89b1510c4cd3d0649fd302472</td>\n",
       "      <td>55d4004744368f5571d1f590031933e4</td>\n",
       "      <td>5</td>\n",
       "      <td>None</td>\n",
       "      <td>Excelente mochila, entrega super rápida. Super...</td>\n",
       "      <td>2018-03-22 00:00:00</td>\n",
       "      <td>2018-03-23 09:10:43</td>\n",
       "    </tr>\n",
       "  </tbody>\n",
       "</table>\n",
       "<p>57420 rows × 7 columns</p>\n",
       "</div>"
      ],
      "text/plain": [
       "                              review_id                          order_id  \\\n",
       "0      80e641a11e56f04c1ad469d5645fdfde  a548910a1c6147796b98fdf73dbeba33   \n",
       "1      228ce5500dc1d8e020d8d1322874b6f0  f9e4b658b201a9f2ecdecbb34bed034b   \n",
       "2      e64fb393e7b32834bb789ff8bb30750e  658677c97b385a9be170737859d3511b   \n",
       "...                                 ...                               ...   \n",
       "57417  574ed12dd733e5fa530cfd4bbf39d7c9  2a8c23fee101d4d5662fa670396eb8da   \n",
       "57418  f3897127253a9592a73be9bdfdf4ed7a  22ec9f0669f784db00fa86d035cf8602   \n",
       "57419  b3de70c89b1510c4cd3d0649fd302472  55d4004744368f5571d1f590031933e4   \n",
       "\n",
       "       review_score review_comment_title  \\\n",
       "0                 5                 None   \n",
       "1                 5                 None   \n",
       "2                 5                 None   \n",
       "...             ...                  ...   \n",
       "57417             5                 None   \n",
       "57418             5                 None   \n",
       "57419             5                 None   \n",
       "\n",
       "                                  review_comment_message review_creation_date  \\\n",
       "0                                                   None  2018-03-10 00:00:00   \n",
       "1                                                   None  2018-02-17 00:00:00   \n",
       "2                  Recebi bem antes do prazo estipulado.  2017-04-21 00:00:00   \n",
       "...                                                  ...                  ...   \n",
       "57417                                               None  2018-07-07 00:00:00   \n",
       "57418                                               None  2017-12-09 00:00:00   \n",
       "57419  Excelente mochila, entrega super rápida. Super...  2018-03-22 00:00:00   \n",
       "\n",
       "      review_answer_timestamp  \n",
       "0         2018-03-11 03:05:13  \n",
       "1         2018-02-18 14:36:24  \n",
       "2         2017-04-21 22:02:06  \n",
       "...                       ...  \n",
       "57417     2018-07-14 17:18:30  \n",
       "57418     2017-12-11 20:06:42  \n",
       "57419     2018-03-23 09:10:43  \n",
       "\n",
       "[57420 rows x 7 columns]"
      ]
     },
     "execution_count": 10,
     "metadata": {},
     "output_type": "execute_result"
    }
   ],
   "source": [
    "consulta('''SELECT  * FROM olist_order_reviews_dataset\n",
    "             WHERE review_score=5 \n",
    "            ''')"
   ]
  },
  {
   "cell_type": "markdown",
   "metadata": {
    "id": "EjOVwkA2qcaH"
   },
   "source": [
    "### 7 - Selecione todos os pagamentos da 'olist_order_payments_dataset' que foram realizados com cartão de crédito e possuem um valor acima de R$500."
   ]
  },
  {
   "cell_type": "code",
   "execution_count": 11,
   "metadata": {
    "id": "Mh8l5HoLqcaH",
    "outputId": "2400ca43-8453-47f9-d843-f7277d69d3fd"
   },
   "outputs": [
    {
     "data": {
      "text/html": [
       "<div>\n",
       "<style scoped>\n",
       "    .dataframe tbody tr th:only-of-type {\n",
       "        vertical-align: middle;\n",
       "    }\n",
       "\n",
       "    .dataframe tbody tr th {\n",
       "        vertical-align: top;\n",
       "    }\n",
       "\n",
       "    .dataframe thead th {\n",
       "        text-align: right;\n",
       "    }\n",
       "</style>\n",
       "<table border=\"1\" class=\"dataframe\">\n",
       "  <thead>\n",
       "    <tr style=\"text-align: right;\">\n",
       "      <th></th>\n",
       "      <th>order_id</th>\n",
       "      <th>payment_sequential</th>\n",
       "      <th>payment_type</th>\n",
       "      <th>payment_installments</th>\n",
       "      <th>payment_value</th>\n",
       "    </tr>\n",
       "  </thead>\n",
       "  <tbody>\n",
       "    <tr>\n",
       "      <th>0</th>\n",
       "      <td>d0a945f85ba1074b60aac97ade7e240e</td>\n",
       "      <td>1</td>\n",
       "      <td>credit_card</td>\n",
       "      <td>2</td>\n",
       "      <td>541.00</td>\n",
       "    </tr>\n",
       "    <tr>\n",
       "      <th>1</th>\n",
       "      <td>2e2c60b99754ae1e4d8b18846cfec9f2</td>\n",
       "      <td>1</td>\n",
       "      <td>credit_card</td>\n",
       "      <td>4</td>\n",
       "      <td>542.66</td>\n",
       "    </tr>\n",
       "    <tr>\n",
       "      <th>2</th>\n",
       "      <td>110d9355d6338eab0a65a0cacdde5434</td>\n",
       "      <td>1</td>\n",
       "      <td>credit_card</td>\n",
       "      <td>5</td>\n",
       "      <td>566.40</td>\n",
       "    </tr>\n",
       "    <tr>\n",
       "      <th>...</th>\n",
       "      <td>...</td>\n",
       "      <td>...</td>\n",
       "      <td>...</td>\n",
       "      <td>...</td>\n",
       "      <td>...</td>\n",
       "    </tr>\n",
       "    <tr>\n",
       "      <th>3485</th>\n",
       "      <td>4198c92e06d92792e49f119f659e723e</td>\n",
       "      <td>1</td>\n",
       "      <td>credit_card</td>\n",
       "      <td>10</td>\n",
       "      <td>1294.26</td>\n",
       "    </tr>\n",
       "    <tr>\n",
       "      <th>3486</th>\n",
       "      <td>0f121110b75ef7c38c79d67833c49830</td>\n",
       "      <td>1</td>\n",
       "      <td>credit_card</td>\n",
       "      <td>10</td>\n",
       "      <td>956.86</td>\n",
       "    </tr>\n",
       "    <tr>\n",
       "      <th>3487</th>\n",
       "      <td>df8ab61cb615d551483618533aceb364</td>\n",
       "      <td>1</td>\n",
       "      <td>credit_card</td>\n",
       "      <td>10</td>\n",
       "      <td>713.65</td>\n",
       "    </tr>\n",
       "  </tbody>\n",
       "</table>\n",
       "<p>3488 rows × 5 columns</p>\n",
       "</div>"
      ],
      "text/plain": [
       "                              order_id  payment_sequential payment_type  \\\n",
       "0     d0a945f85ba1074b60aac97ade7e240e                   1  credit_card   \n",
       "1     2e2c60b99754ae1e4d8b18846cfec9f2                   1  credit_card   \n",
       "2     110d9355d6338eab0a65a0cacdde5434                   1  credit_card   \n",
       "...                                ...                 ...          ...   \n",
       "3485  4198c92e06d92792e49f119f659e723e                   1  credit_card   \n",
       "3486  0f121110b75ef7c38c79d67833c49830                   1  credit_card   \n",
       "3487  df8ab61cb615d551483618533aceb364                   1  credit_card   \n",
       "\n",
       "      payment_installments  payment_value  \n",
       "0                        2         541.00  \n",
       "1                        4         542.66  \n",
       "2                        5         566.40  \n",
       "...                    ...            ...  \n",
       "3485                    10        1294.26  \n",
       "3486                    10         956.86  \n",
       "3487                    10         713.65  \n",
       "\n",
       "[3488 rows x 5 columns]"
      ]
     },
     "execution_count": 11,
     "metadata": {},
     "output_type": "execute_result"
    }
   ],
   "source": [
    "consulta('''SELECT * from olist_order_payments_dataset \n",
    "             WHERE payment_value >500 \n",
    "             AND payment_type = \"credit_card\"''')"
   ]
  },
  {
   "cell_type": "markdown",
   "metadata": {
    "id": "NRKUv-K_qcaI"
   },
   "source": [
    "### 8 - Selecione os 5 valores mais altos transacionados por cartão de crédito da 'olist_order_payments_dataset' e oredene-os de forma decrescente."
   ]
  },
  {
   "cell_type": "code",
   "execution_count": 12,
   "metadata": {
    "id": "ejD8gOzdqcaI",
    "outputId": "d806d571-96b3-4aa7-e9d2-81b522cbac75"
   },
   "outputs": [
    {
     "data": {
      "text/html": [
       "<div>\n",
       "<style scoped>\n",
       "    .dataframe tbody tr th:only-of-type {\n",
       "        vertical-align: middle;\n",
       "    }\n",
       "\n",
       "    .dataframe tbody tr th {\n",
       "        vertical-align: top;\n",
       "    }\n",
       "\n",
       "    .dataframe thead th {\n",
       "        text-align: right;\n",
       "    }\n",
       "</style>\n",
       "<table border=\"1\" class=\"dataframe\">\n",
       "  <thead>\n",
       "    <tr style=\"text-align: right;\">\n",
       "      <th></th>\n",
       "      <th>order_id</th>\n",
       "      <th>payment_sequential</th>\n",
       "      <th>payment_type</th>\n",
       "      <th>payment_installments</th>\n",
       "      <th>payment_value</th>\n",
       "    </tr>\n",
       "  </thead>\n",
       "  <tbody>\n",
       "    <tr>\n",
       "      <th>0</th>\n",
       "      <td>03caa2c082116e1d31e67e9ae3700499</td>\n",
       "      <td>1</td>\n",
       "      <td>credit_card</td>\n",
       "      <td>1</td>\n",
       "      <td>13664.08</td>\n",
       "    </tr>\n",
       "    <tr>\n",
       "      <th>1</th>\n",
       "      <td>736e1922ae60d0d6a89247b851902527</td>\n",
       "      <td>1</td>\n",
       "      <td>boleto</td>\n",
       "      <td>1</td>\n",
       "      <td>7274.88</td>\n",
       "    </tr>\n",
       "    <tr>\n",
       "      <th>2</th>\n",
       "      <td>0812eb902a67711a1cb742b3cdaa65ae</td>\n",
       "      <td>1</td>\n",
       "      <td>credit_card</td>\n",
       "      <td>8</td>\n",
       "      <td>6929.31</td>\n",
       "    </tr>\n",
       "    <tr>\n",
       "      <th>3</th>\n",
       "      <td>fefacc66af859508bf1a7934eab1e97f</td>\n",
       "      <td>1</td>\n",
       "      <td>boleto</td>\n",
       "      <td>1</td>\n",
       "      <td>6922.21</td>\n",
       "    </tr>\n",
       "    <tr>\n",
       "      <th>4</th>\n",
       "      <td>f5136e38d1a14a4dbd87dff67da82701</td>\n",
       "      <td>1</td>\n",
       "      <td>boleto</td>\n",
       "      <td>1</td>\n",
       "      <td>6726.66</td>\n",
       "    </tr>\n",
       "  </tbody>\n",
       "</table>\n",
       "</div>"
      ],
      "text/plain": [
       "                           order_id  payment_sequential payment_type  \\\n",
       "0  03caa2c082116e1d31e67e9ae3700499                   1  credit_card   \n",
       "1  736e1922ae60d0d6a89247b851902527                   1       boleto   \n",
       "2  0812eb902a67711a1cb742b3cdaa65ae                   1  credit_card   \n",
       "3  fefacc66af859508bf1a7934eab1e97f                   1       boleto   \n",
       "4  f5136e38d1a14a4dbd87dff67da82701                   1       boleto   \n",
       "\n",
       "   payment_installments  payment_value  \n",
       "0                     1       13664.08  \n",
       "1                     1        7274.88  \n",
       "2                     8        6929.31  \n",
       "3                     1        6922.21  \n",
       "4                     1        6726.66  "
      ]
     },
     "execution_count": 12,
     "metadata": {},
     "output_type": "execute_result"
    }
   ],
   "source": [
    "consulta('''SELECT * from olist_order_payments_dataset \n",
    "            ORDER BY payment_value DESC LIMIT 5\n",
    "            ''')"
   ]
  },
  {
   "cell_type": "markdown",
   "metadata": {
    "id": "oNGKVArwqcaJ"
   },
   "source": [
    "### 9 - Selecione as cidades e os estados responsáveis pelos 10 valores mais altos da 'olist_order_payments_dataset'. Se quiser, mostre também os valores transacionados."
   ]
  },
  {
   "cell_type": "code",
   "execution_count": 14,
   "metadata": {
    "id": "TGDQGxLZqcaJ",
    "outputId": "d690acb3-3a9f-4d60-f1fa-cf672fa65d9f",
    "scrolled": true
   },
   "outputs": [
    {
     "data": {
      "text/html": [
       "<div>\n",
       "<style scoped>\n",
       "    .dataframe tbody tr th:only-of-type {\n",
       "        vertical-align: middle;\n",
       "    }\n",
       "\n",
       "    .dataframe tbody tr th {\n",
       "        vertical-align: top;\n",
       "    }\n",
       "\n",
       "    .dataframe thead th {\n",
       "        text-align: right;\n",
       "    }\n",
       "</style>\n",
       "<table border=\"1\" class=\"dataframe\">\n",
       "  <thead>\n",
       "    <tr style=\"text-align: right;\">\n",
       "      <th></th>\n",
       "      <th>customer_city</th>\n",
       "      <th>customer_state</th>\n",
       "      <th>payment_value</th>\n",
       "    </tr>\n",
       "  </thead>\n",
       "  <tbody>\n",
       "    <tr>\n",
       "      <th>0</th>\n",
       "      <td>rio de janeiro</td>\n",
       "      <td>RJ</td>\n",
       "      <td>13664.08</td>\n",
       "    </tr>\n",
       "    <tr>\n",
       "      <th>1</th>\n",
       "      <td>vila velha</td>\n",
       "      <td>ES</td>\n",
       "      <td>7274.88</td>\n",
       "    </tr>\n",
       "    <tr>\n",
       "      <th>2</th>\n",
       "      <td>campo grande</td>\n",
       "      <td>MS</td>\n",
       "      <td>6929.31</td>\n",
       "    </tr>\n",
       "    <tr>\n",
       "      <th>...</th>\n",
       "      <td>...</td>\n",
       "      <td>...</td>\n",
       "      <td>...</td>\n",
       "    </tr>\n",
       "    <tr>\n",
       "      <th>7</th>\n",
       "      <td>goiania</td>\n",
       "      <td>GO</td>\n",
       "      <td>4809.44</td>\n",
       "    </tr>\n",
       "    <tr>\n",
       "      <th>8</th>\n",
       "      <td>maua</td>\n",
       "      <td>SP</td>\n",
       "      <td>4764.34</td>\n",
       "    </tr>\n",
       "    <tr>\n",
       "      <th>9</th>\n",
       "      <td>joao pessoa</td>\n",
       "      <td>PB</td>\n",
       "      <td>4681.78</td>\n",
       "    </tr>\n",
       "  </tbody>\n",
       "</table>\n",
       "<p>10 rows × 3 columns</p>\n",
       "</div>"
      ],
      "text/plain": [
       "     customer_city customer_state  payment_value\n",
       "0   rio de janeiro             RJ       13664.08\n",
       "1       vila velha             ES        7274.88\n",
       "2     campo grande             MS        6929.31\n",
       "..             ...            ...            ...\n",
       "7          goiania             GO        4809.44\n",
       "8             maua             SP        4764.34\n",
       "9      joao pessoa             PB        4681.78\n",
       "\n",
       "[10 rows x 3 columns]"
      ]
     },
     "execution_count": 14,
     "metadata": {},
     "output_type": "execute_result"
    }
   ],
   "source": [
    "consulta('''\n",
    "         SELECT customer_city, customer_state, payment_value  FROM olist_orders_dataset od\n",
    "        inner join  olist_order_payments_dataset op\n",
    "            on od.order_id = op.order_id\n",
    "        inner join olist_customers_dataset c\n",
    "            on c.customer_id = od.customer_id\n",
    "        ORDER BY payment_value desc LIMIT 10\n",
    "         ''')"
   ]
  },
  {
   "cell_type": "markdown",
   "metadata": {
    "id": "ZR--1jeoqcaJ"
   },
   "source": [
    "### 10  - Faça um agrupamento que mostre os estados que mais gastaram de acordo com a presente base de dados e disponha-os na tela em ordem decrescente de acordo com seus gastos."
   ]
  },
  {
   "cell_type": "code",
   "execution_count": 15,
   "metadata": {
    "id": "MhRos-M8qcaJ",
    "outputId": "9638dea3-c355-4846-a926-a8a58375f28b"
   },
   "outputs": [
    {
     "data": {
      "text/html": [
       "<div>\n",
       "<style scoped>\n",
       "    .dataframe tbody tr th:only-of-type {\n",
       "        vertical-align: middle;\n",
       "    }\n",
       "\n",
       "    .dataframe tbody tr th {\n",
       "        vertical-align: top;\n",
       "    }\n",
       "\n",
       "    .dataframe thead th {\n",
       "        text-align: right;\n",
       "    }\n",
       "</style>\n",
       "<table border=\"1\" class=\"dataframe\">\n",
       "  <thead>\n",
       "    <tr style=\"text-align: right;\">\n",
       "      <th></th>\n",
       "      <th>order_id</th>\n",
       "      <th>customer_id</th>\n",
       "      <th>order_status</th>\n",
       "      <th>order_purchase_timestamp</th>\n",
       "      <th>order_approved_at</th>\n",
       "      <th>order_delivered_carrier_date</th>\n",
       "      <th>order_delivered_customer_date</th>\n",
       "      <th>order_estimated_delivery_date</th>\n",
       "    </tr>\n",
       "  </thead>\n",
       "  <tbody>\n",
       "    <tr>\n",
       "      <th>0</th>\n",
       "      <td>e481f51cbdc54678b7cc49136f2d6af7</td>\n",
       "      <td>9ef432eb6251297304e76186b10a928d</td>\n",
       "      <td>delivered</td>\n",
       "      <td>2017-10-02 10:56:33</td>\n",
       "      <td>2017-10-02 11:07:15</td>\n",
       "      <td>2017-10-04 19:55:00</td>\n",
       "      <td>2017-10-10 21:25:13</td>\n",
       "      <td>2017-10-18 00:00:00</td>\n",
       "    </tr>\n",
       "    <tr>\n",
       "      <th>1</th>\n",
       "      <td>53cdb2fc8bc7dce0b6741e2150273451</td>\n",
       "      <td>b0830fb4747a6c6d20dea0b8c802d7ef</td>\n",
       "      <td>delivered</td>\n",
       "      <td>2018-07-24 20:41:37</td>\n",
       "      <td>2018-07-26 03:24:27</td>\n",
       "      <td>2018-07-26 14:31:00</td>\n",
       "      <td>2018-08-07 15:27:45</td>\n",
       "      <td>2018-08-13 00:00:00</td>\n",
       "    </tr>\n",
       "    <tr>\n",
       "      <th>2</th>\n",
       "      <td>47770eb9100c2d0c44946d9cf07ec65d</td>\n",
       "      <td>41ce2a54c0b03bf3443c3d931a367089</td>\n",
       "      <td>delivered</td>\n",
       "      <td>2018-08-08 08:38:49</td>\n",
       "      <td>2018-08-08 08:55:23</td>\n",
       "      <td>2018-08-08 13:50:00</td>\n",
       "      <td>2018-08-17 18:06:29</td>\n",
       "      <td>2018-09-04 00:00:00</td>\n",
       "    </tr>\n",
       "    <tr>\n",
       "      <th>...</th>\n",
       "      <td>...</td>\n",
       "      <td>...</td>\n",
       "      <td>...</td>\n",
       "      <td>...</td>\n",
       "      <td>...</td>\n",
       "      <td>...</td>\n",
       "      <td>...</td>\n",
       "      <td>...</td>\n",
       "    </tr>\n",
       "    <tr>\n",
       "      <th>99438</th>\n",
       "      <td>83c1379a015df1e13d02aae0204711ab</td>\n",
       "      <td>1aa71eb042121263aafbe80c1b562c9c</td>\n",
       "      <td>delivered</td>\n",
       "      <td>2017-08-27 14:46:43</td>\n",
       "      <td>2017-08-27 15:04:16</td>\n",
       "      <td>2017-08-28 20:52:26</td>\n",
       "      <td>2017-09-21 11:24:17</td>\n",
       "      <td>2017-09-27 00:00:00</td>\n",
       "    </tr>\n",
       "    <tr>\n",
       "      <th>99439</th>\n",
       "      <td>11c177c8e97725db2631073c19f07b62</td>\n",
       "      <td>b331b74b18dc79bcdf6532d51e1637c1</td>\n",
       "      <td>delivered</td>\n",
       "      <td>2018-01-08 21:28:27</td>\n",
       "      <td>2018-01-08 21:36:21</td>\n",
       "      <td>2018-01-12 15:35:03</td>\n",
       "      <td>2018-01-25 23:32:54</td>\n",
       "      <td>2018-02-15 00:00:00</td>\n",
       "    </tr>\n",
       "    <tr>\n",
       "      <th>99440</th>\n",
       "      <td>66dea50a8b16d9b4dee7af250b4be1a5</td>\n",
       "      <td>edb027a75a1449115f6b43211ae02a24</td>\n",
       "      <td>delivered</td>\n",
       "      <td>2018-03-08 20:57:30</td>\n",
       "      <td>2018-03-09 11:20:28</td>\n",
       "      <td>2018-03-09 22:11:59</td>\n",
       "      <td>2018-03-16 13:08:30</td>\n",
       "      <td>2018-04-03 00:00:00</td>\n",
       "    </tr>\n",
       "  </tbody>\n",
       "</table>\n",
       "<p>99441 rows × 8 columns</p>\n",
       "</div>"
      ],
      "text/plain": [
       "                               order_id                       customer_id  \\\n",
       "0      e481f51cbdc54678b7cc49136f2d6af7  9ef432eb6251297304e76186b10a928d   \n",
       "1      53cdb2fc8bc7dce0b6741e2150273451  b0830fb4747a6c6d20dea0b8c802d7ef   \n",
       "2      47770eb9100c2d0c44946d9cf07ec65d  41ce2a54c0b03bf3443c3d931a367089   \n",
       "...                                 ...                               ...   \n",
       "99438  83c1379a015df1e13d02aae0204711ab  1aa71eb042121263aafbe80c1b562c9c   \n",
       "99439  11c177c8e97725db2631073c19f07b62  b331b74b18dc79bcdf6532d51e1637c1   \n",
       "99440  66dea50a8b16d9b4dee7af250b4be1a5  edb027a75a1449115f6b43211ae02a24   \n",
       "\n",
       "      order_status order_purchase_timestamp    order_approved_at  \\\n",
       "0        delivered      2017-10-02 10:56:33  2017-10-02 11:07:15   \n",
       "1        delivered      2018-07-24 20:41:37  2018-07-26 03:24:27   \n",
       "2        delivered      2018-08-08 08:38:49  2018-08-08 08:55:23   \n",
       "...            ...                      ...                  ...   \n",
       "99438    delivered      2017-08-27 14:46:43  2017-08-27 15:04:16   \n",
       "99439    delivered      2018-01-08 21:28:27  2018-01-08 21:36:21   \n",
       "99440    delivered      2018-03-08 20:57:30  2018-03-09 11:20:28   \n",
       "\n",
       "      order_delivered_carrier_date order_delivered_customer_date  \\\n",
       "0              2017-10-04 19:55:00           2017-10-10 21:25:13   \n",
       "1              2018-07-26 14:31:00           2018-08-07 15:27:45   \n",
       "2              2018-08-08 13:50:00           2018-08-17 18:06:29   \n",
       "...                            ...                           ...   \n",
       "99438          2017-08-28 20:52:26           2017-09-21 11:24:17   \n",
       "99439          2018-01-12 15:35:03           2018-01-25 23:32:54   \n",
       "99440          2018-03-09 22:11:59           2018-03-16 13:08:30   \n",
       "\n",
       "      order_estimated_delivery_date  \n",
       "0               2017-10-18 00:00:00  \n",
       "1               2018-08-13 00:00:00  \n",
       "2               2018-09-04 00:00:00  \n",
       "...                             ...  \n",
       "99438           2017-09-27 00:00:00  \n",
       "99439           2018-02-15 00:00:00  \n",
       "99440           2018-04-03 00:00:00  \n",
       "\n",
       "[99441 rows x 8 columns]"
      ]
     },
     "execution_count": 15,
     "metadata": {},
     "output_type": "execute_result"
    }
   ],
   "source": [
    "consulta('''\n",
    "      --  SELECT * FROM olist_order_payments_dataset LIMIT 5\n",
    "     --     SELECT * FROM  olist_customers_dataset LIMIT 5\n",
    "         SELECT * FROM olist_orders_dataset\n",
    "\n",
    "\n",
    "         ''')"
   ]
  },
  {
   "cell_type": "code",
   "execution_count": null,
   "metadata": {},
   "outputs": [],
   "source": []
  }
 ],
 "metadata": {
  "colab": {
   "collapsed_sections": [],
   "name": "sqlite3-exercises-empty.ipynb",
   "provenance": []
  },
  "kernelspec": {
   "display_name": "Python 3",
   "language": "python",
   "name": "python3"
  },
  "language_info": {
   "codemirror_mode": {
    "name": "ipython",
    "version": 3
   },
   "file_extension": ".py",
   "mimetype": "text/x-python",
   "name": "python",
   "nbconvert_exporter": "python",
   "pygments_lexer": "ipython3",
   "version": "3.8.5"
  }
 },
 "nbformat": 4,
 "nbformat_minor": 1
}
